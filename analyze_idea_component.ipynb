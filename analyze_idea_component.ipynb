{
 "cells": [
  {
   "cell_type": "code",
   "execution_count": null,
   "metadata": {},
   "outputs": [],
   "source": [
    "from scripts.exp.researcher.idea_pool import Idea, Idea_Pool\n",
    "\n",
    "idea_pool = Idea_Pool(cache_path=r\"scripts/exp/researcher/output_dir/idea_pool/test.json\")"
   ]
  },
  {
   "cell_type": "code",
   "execution_count": null,
   "metadata": {},
   "outputs": [],
   "source": [
    "import json\n",
    "from rdagent.oai.llm_utils import APIBackend\n",
    "\n",
    "\n",
    "system_prompt = \"\"\"You are analyzing several ideas when running some kaggle competitions on data science.\n",
    "User has found several possible good ideas and you are asked to identify what component those ideas are focusing.\n",
    "\n",
    "Possible components are:\n",
    "- Feature Engineering including anything related to data preprocessing like augmentation, cleaning, etc.\n",
    "- Model related including anything related to model selection, model architecture, hyperparameter tuning, etc.\n",
    "- Model ensemble\n",
    "- Others\n",
    "\n",
    "You should provide the component for each idea and only return the component in the following json schema:\n",
    "{\n",
    "    \"idea_id\": \"component\",\n",
    "    \"idea_id\": \"component\",\n",
    "    ...\n",
    "}\n",
    "component should be one of \"feature\", \"model\", \"ensemble\", \"others\"\n",
    "\"\"\"\n",
    "\n",
    "\n",
    "# for index, idea in enumerate(idea_pool.idea_pool[:3]):\n",
    "for index in range(0, len(idea_pool.idea_pool), 10):\n",
    "    user_prompt = \"\"\n",
    "    part_idea_pool = idea_pool.idea_pool[index: index + 10]\n",
    "    for inner_index, idea in enumerate(part_idea_pool):\n",
    "        user_prompt += f\"idea_{inner_index}:\\nIdea: {idea.idea}\\n Method: {idea.method}\\n Context: {idea.context}\\n\"\n",
    "\n",
    "    resp = json.loads(APIBackend().build_messages_and_create_chat_completion(user_prompt, system_prompt, json_mode=True))\n",
    "    for k, v in resp.items():\n",
    "        try:\n",
    "            idea_pool.idea_pool[index + int(k.split(\"_\")[-1])].target_component = v\n",
    "        except:\n",
    "            pass\n"
   ]
  },
  {
   "cell_type": "code",
   "execution_count": 13,
   "metadata": {},
   "outputs": [],
   "source": [
    "import pickle \n",
    "pickle.dump(idea_pool, open(\"scripts/exp/researcher/output_dir/idea_pool/test.pkl\", \"wb\"))"
   ]
  }
 ],
 "metadata": {
  "kernelspec": {
   "display_name": "rdagent",
   "language": "python",
   "name": "python3"
  },
  "language_info": {
   "codemirror_mode": {
    "name": "ipython",
    "version": 3
   },
   "file_extension": ".py",
   "mimetype": "text/x-python",
   "name": "python",
   "nbconvert_exporter": "python",
   "pygments_lexer": "ipython3",
   "version": "3.10.0"
  }
 },
 "nbformat": 4,
 "nbformat_minor": 2
}
