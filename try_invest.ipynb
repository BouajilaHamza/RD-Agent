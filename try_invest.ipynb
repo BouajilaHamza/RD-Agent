{
 "cells": [
  {
   "cell_type": "code",
   "execution_count": 1,
   "metadata": {},
   "outputs": [
    {
     "name": "stderr",
     "output_type": "stream",
     "text": [
      "/data/userdata/fangshikai/anaconda3/envs/rdagent/lib/python3.10/site-packages/tqdm/auto.py:21: TqdmWarning: IProgress not found. Please update jupyter and ipywidgets. See https://ipywidgets.readthedocs.io/en/stable/user_install.html\n",
      "  from .autonotebook import tqdm as notebook_tqdm\n"
     ]
    }
   ],
   "source": [
    "import json\n",
    "import pickle\n",
    "from rdagent.components.coder.data_science.ensemble.exp import EnsembleTask\n",
    "from rdagent.components.coder.data_science.feature.exp import FeatureTask\n",
    "from rdagent.components.coder.data_science.model.exp import ModelTask\n",
    "from rdagent.components.coder.data_science.raw_data_loader.exp import DataLoaderTask\n",
    "from rdagent.components.coder.data_science.workflow.exp import WorkflowTask\n",
    "from rdagent.core.knowledge_base import KnowledgeBase\n",
    "from rdagent.core.proposal import ExperimentFeedback, ExpGen, Hypothesis, Trace\n",
    "from rdagent.oai.llm_utils import APIBackend\n",
    "from rdagent.scenarios.data_science.experiment.experiment import COMPONENT, DSExperiment\n",
    "from rdagent.scenarios.data_science.scen import DataScienceScen\n",
    "from rdagent.utils.agent.tpl import T\n",
    "from rdagent.utils.repo.diff import generate_diff_from_dict\n",
    "from rdagent.utils.workflow import wait_retry"
   ]
  },
  {
   "cell_type": "code",
   "execution_count": 50,
   "metadata": {},
   "outputs": [
    {
     "data": {
      "text/plain": [
       "{'Model': {0: 'model_neural_network',\n",
       "  1: 'model_linear_regression',\n",
       "  2: 'ensemble'},\n",
       " 'MSE': {0: 0.0277930339888858, 1: 0.0221899426342908, 2: 0.0063392688483506}}"
      ]
     },
     "execution_count": 50,
     "metadata": {},
     "output_type": "execute_result"
    }
   ],
   "source": [
    "import json\n",
    "\n",
    "\n",
    "invest_path = 'log/nomad2018-predict-transparent-conductors/Loop_18'\n",
    "\n",
    "exp_path = 'log/nomad2018-predict-transparent-conductors/Loop_10/direct_exp_gen/3489991/2025-02-19_03-48-48-014636.pkl'\n",
    "\n",
    "exp = pickle.load(open(exp_path, 'rb'))\n",
    "\n",
    "score_path = exp.experiment_workspace.workspace_path / \"scores.csv\"\n",
    "import pandas as pd\n",
    "scores_df = pd.read_csv(score_path)\n",
    "scores_df.to_dict()\n",
    "\n"
   ]
  },
  {
   "cell_type": "code",
   "execution_count": 52,
   "metadata": {},
   "outputs": [
    {
     "data": {
      "text/plain": [
       "\"score: {'Model': {0: 'model_neural_network', 1: 'model_linear_regression', 2: 'ensemble'}, 'MSE': {0: 0.0277930339888858, 1: 0.0221899426342908, 2: 0.0063392688483506}}\""
      ]
     },
     "execution_count": 52,
     "metadata": {},
     "output_type": "execute_result"
    }
   ],
   "source": [
    "f\"\"\"score: {scores_df.to_dict()}\"\"\""
   ]
  },
  {
   "cell_type": "code",
   "execution_count": 43,
   "metadata": {},
   "outputs": [
    {
     "name": "stdout",
     "output_type": "stream",
     "text": [
      "Integrating a neural network model with hyperparameter tuning into the ensemble will capture more complex patterns and interactions, further improving performance.\n",
      "Model\n"
     ]
    }
   ],
   "source": [
    "# print the hypothesis\n",
    "print(exp.hypothesis.hypothesis)\n",
    "print(exp.hypothesis.component)\n"
   ]
  },
  {
   "cell_type": "code",
   "execution_count": 27,
   "metadata": {},
   "outputs": [
    {
     "data": {
      "text/plain": [
       "\"name: model_neural_network\\ndescription: Develop a neural network model to complement existing ensemble models, focusing on capturing complex non-linear patterns in the data. Optimize through hyperparameter tuning to ensure the network's effectiveness within the ensemble.\\narchitecture: Model architecture not provided\\nhyperparameters: Model hyperparameters not provided\\nmodel_type: Model type not provided\\n\""
      ]
     },
     "execution_count": 27,
     "metadata": {},
     "output_type": "execute_result"
    }
   ],
   "source": [
    "# print the task information\n",
    "exp.pending_tasks_list[0][0].get_task_information()"
   ]
  },
  {
   "cell_type": "code",
   "execution_count": 47,
   "metadata": {},
   "outputs": [
    {
     "name": "stdout",
     "output_type": "stream",
     "text": [
      "Decision: True\n",
      "Reason: The neural network model has shown to capture complex non-linear patterns effectively, which contributed to the improvement in the ensemble's performance. By including other powerful models like XGBoost and LightGBM, we can add more diversity and potentially capture additional patterns that the current models might miss. Further tuning of the neural network's architecture and hyperparameters can also optimize its performance within the ensemble.\n",
      "Observations: The current experiment introduces a neural network model into the ensemble, aiming to capture complex non-linear patterns. The ensemble approach has shown improvement compared to the individual models. The RMSLE score for the ensemble is significantly better than the previous SOTA, indicating the effectiveness of incorporating neural networks into the ensemble.\n",
      "Hypothesis Evaluation: The hypothesis that integrating a neural network model with hyperparameter tuning into the ensemble will capture more complex patterns and interactions, further improving performance, is supported by the results. The ensemble MSE decreased from 0.0080838516449479 to 0.0063392688483506, demonstrating a notable enhancement.\n",
      "New Hypothesis: Incorporating additional advanced models such as XGBoost and LightGBM, along with further tuning of the neural network's architecture and hyperparameters, can further improve the ensemble's performance.\n"
     ]
    }
   ],
   "source": [
    "\n",
    "feed_back_path = 'log/nomad2018-predict-transparent-conductors/Loop_10/feedback/3489991/2025-02-19_03-52-01-941719.pkl'\n",
    "\n",
    "feedback = pickle.load(open(feed_back_path, 'rb'))\n",
    "\n",
    "print(feedback)\n",
    "\n"
   ]
  },
  {
   "cell_type": "code",
   "execution_count": 2,
   "metadata": {},
   "outputs": [
    {
     "data": {
      "text/plain": [
       "True"
      ]
     },
     "execution_count": 2,
     "metadata": {},
     "output_type": "execute_result"
    }
   ],
   "source": [
    "trace_path = '/data/userdata/fangshikai/RD-Agent/log/nomad2018-predict-transparent-conductors/Loop_4/record/trace/4083702/2025-03-04_09-11-27-399591.pkl'\n",
    "trace = pickle.load(open(trace_path, 'rb'))\n",
    "trace.scen.metric_direction"
   ]
  },
  {
   "cell_type": "code",
   "execution_count": 6,
   "metadata": {},
   "outputs": [
    {
     "ename": "TypeError",
     "evalue": "Path.rglob() missing 1 required positional argument: 'pattern'",
     "output_type": "error",
     "traceback": [
      "\u001b[0;31m---------------------------------------------------------------------------\u001b[0m",
      "\u001b[0;31mTypeError\u001b[0m                                 Traceback (most recent call last)",
      "Cell \u001b[0;32mIn[6], line 1\u001b[0m\n\u001b[0;32m----> 1\u001b[0m \u001b[43mtrace\u001b[49m\u001b[38;5;241;43m.\u001b[39;49m\u001b[43msota_experiment\u001b[49m\u001b[43m(\u001b[49m\u001b[43m)\u001b[49m\u001b[38;5;241;43m.\u001b[39;49m\u001b[43mexperiment_workspace\u001b[49m\u001b[38;5;241;43m.\u001b[39;49m\u001b[43mworkspace_path\u001b[49m\u001b[38;5;241;43m.\u001b[39;49m\u001b[43mrglob\u001b[49m\u001b[43m(\u001b[49m\u001b[43m)\u001b[49m\n",
      "\u001b[0;31mTypeError\u001b[0m: Path.rglob() missing 1 required positional argument: 'pattern'"
     ]
    }
   ],
   "source": [
    "trace.sota_experiment().experiment_workspace.workspace_path.rglob()"
   ]
  },
  {
   "cell_type": "code",
   "execution_count": 5,
   "metadata": {},
   "outputs": [
    {
     "data": {
      "text/plain": [
       "<rdagent.core.proposal.HypothesisFeedback at 0x7f3538303880>"
      ]
     },
     "execution_count": 5,
     "metadata": {},
     "output_type": "execute_result"
    }
   ],
   "source": [
    "fb_path = 'log/nomad2018-predict-transparent-conductors/Loop_22/feedback/1156638/2025-02-26_05-53-43-419241.pkl'\n",
    "\n",
    "fb = pickle.load(open(fb_path, 'rb'))\n",
    "fb\n",
    "\n",
    "\n",
    "# evaluation_metric_direction， "
   ]
  }
 ],
 "metadata": {
  "kernelspec": {
   "display_name": "rdagent",
   "language": "python",
   "name": "python3"
  },
  "language_info": {
   "codemirror_mode": {
    "name": "ipython",
    "version": 3
   },
   "file_extension": ".py",
   "mimetype": "text/x-python",
   "name": "python",
   "nbconvert_exporter": "python",
   "pygments_lexer": "ipython3",
   "version": "3.10.16"
  }
 },
 "nbformat": 4,
 "nbformat_minor": 2
}
